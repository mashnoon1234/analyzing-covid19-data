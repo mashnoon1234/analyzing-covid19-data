{
 "cells": [
  {
   "cell_type": "markdown",
   "metadata": {},
   "source": [
    "# Analysis of COVID-19 Data\n",
    "\n",
    "So we start off by querying the version of Pandas used. Knowing this is always helpful when it comes to debugging certain problems."
   ]
  },
  {
   "cell_type": "code",
   "execution_count": 9,
   "metadata": {},
   "outputs": [
    {
     "name": "stdout",
     "output_type": "stream",
     "text": [
      "1.0.3\n"
     ]
    }
   ],
   "source": [
    "import pandas as pd\n",
    "print(pd.__version__)\n",
    "import numpy as np\n",
    "\n",
    "%matplotlib inline\n",
    "import matplotlib\n",
    "matplotlib.rcParams['figure.figsize'] = (16, 4)"
   ]
  },
  {
   "cell_type": "markdown",
   "metadata": {},
   "source": [
    "Now we are fetching data from the url provided by \"Our World in Data\", which you can learn more about by visiting this [link](https://github.com/owid/covid-19-data/tree/master/public/data). \n",
    "\n",
    "I thank Edouard Mathieu and his fellow collaborators for this awesome work. They have accumulated the COVID-19 testing rates for every country along with all other relevant information. They are regularly updating the data as well."
   ]
  },
  {
   "cell_type": "code",
   "execution_count": 61,
   "metadata": {},
   "outputs": [
    {
     "name": "stdout",
     "output_type": "stream",
     "text": [
      "  iso_code location        date  total_cases  new_cases  total_deaths  \\\n",
      "0      ABW    Aruba  2020-03-13            2          2             0   \n",
      "1      ABW    Aruba  2020-03-20            4          2             0   \n",
      "2      ABW    Aruba  2020-03-24           12          8             0   \n",
      "3      ABW    Aruba  2020-03-25           17          5             0   \n",
      "4      ABW    Aruba  2020-03-26           19          2             0   \n",
      "\n",
      "   new_deaths  total_cases_per_million  new_cases_per_million  \\\n",
      "0           0                   18.733                 18.733   \n",
      "1           0                   37.465                 18.733   \n",
      "2           0                  112.395                 74.930   \n",
      "3           0                  159.227                 46.831   \n",
      "4           0                  177.959                 18.733   \n",
      "\n",
      "   total_deaths_per_million  ...  aged_65_older  aged_70_older  \\\n",
      "0                       0.0  ...         13.085          7.452   \n",
      "1                       0.0  ...         13.085          7.452   \n",
      "2                       0.0  ...         13.085          7.452   \n",
      "3                       0.0  ...         13.085          7.452   \n",
      "4                       0.0  ...         13.085          7.452   \n",
      "\n",
      "   gdp_per_capita  extreme_poverty  cvd_death_rate diabetes_prevalence  \\\n",
      "0       35973.781              NaN             NaN               11.62   \n",
      "1       35973.781              NaN             NaN               11.62   \n",
      "2       35973.781              NaN             NaN               11.62   \n",
      "3       35973.781              NaN             NaN               11.62   \n",
      "4       35973.781              NaN             NaN               11.62   \n",
      "\n",
      "   female_smokers  male_smokers  handwashing_facilities  \\\n",
      "0             NaN           NaN                     NaN   \n",
      "1             NaN           NaN                     NaN   \n",
      "2             NaN           NaN                     NaN   \n",
      "3             NaN           NaN                     NaN   \n",
      "4             NaN           NaN                     NaN   \n",
      "\n",
      "   hospital_beds_per_100k  \n",
      "0                     NaN  \n",
      "1                     NaN  \n",
      "2                     NaN  \n",
      "3                     NaN  \n",
      "4                     NaN  \n",
      "\n",
      "[5 rows x 29 columns]\n"
     ]
    }
   ],
   "source": [
    "data = pd.read_csv(\"https://covid.ourworldindata.org/data/owid-covid-data.csv\")\n",
    "print(data.head())"
   ]
  },
  {
   "cell_type": "code",
   "execution_count": 69,
   "metadata": {},
   "outputs": [
    {
     "name": "stdout",
     "output_type": "stream",
     "text": [
      "         date  total_deaths  total_tests\n",
      "0  2020-03-04             0        108.0\n",
      "1  2020-03-05             0        111.0\n",
      "2  2020-03-07             0        120.0\n",
      "3  2020-03-08             0        127.0\n",
      "4  2020-03-09             0        137.0\n",
      "         date  total_deaths  total_tests\n",
      "0  2019-12-31             0          0.0\n",
      "1  2020-01-01             0          0.0\n",
      "2  2020-01-02             0          0.0\n",
      "3  2020-01-03             0          0.0\n",
      "4  2020-01-04             0          0.0\n"
     ]
    }
   ],
   "source": [
    "bangladesh = data[data[\"location\"] == \"Bangladesh\"].reset_index().fillna(0)\n",
    "australia = data[data[\"location\"] == \"Australia\"].reset_index().fillna(0)\n",
    "bangladesh = bangladesh[[\"date\", \"total_deaths\", \"total_tests\"]]\n",
    "australia = australia[[\"date\", \"total_deaths\", \"total_tests\"]]\n",
    "print(bangladesh.head())\n",
    "print(australia.head())"
   ]
  },
  {
   "cell_type": "code",
   "execution_count": 70,
   "metadata": {},
   "outputs": [
    {
     "name": "stdout",
     "output_type": "stream",
     "text": [
      "      total_deaths  total_tests\n",
      "date                           \n",
      "0                0        108.0\n",
      "1                0        111.0\n",
      "3                0        120.0\n",
      "4                0        127.0\n",
      "5                0        137.0\n",
      "      total_deaths  total_tests\n",
      "date                           \n",
      "0                0          0.0\n",
      "1                0          0.0\n",
      "2                0          0.0\n",
      "3                0          0.0\n",
      "4                0          0.0\n"
     ]
    }
   ],
   "source": [
    "bangladesh[\"date\"] = pd.to_datetime(bangladesh[\"date\"])\n",
    "bangladesh[\"date\"] = (bangladesh[\"date\"] - bangladesh[\"date\"][0]).dt.days\n",
    "\n",
    "australia[\"date\"] = pd.to_datetime(australia[\"date\"])\n",
    "australia[\"date\"] = (australia[\"date\"] - australia[\"date\"][0]).dt.days\n",
    "\n",
    "bangladesh = bangladesh.set_index(\"date\")\n",
    "australia = australia.set_index(\"date\")\n",
    "\n",
    "print(bangladesh.head())\n",
    "print(australia.head())"
   ]
  },
  {
   "cell_type": "code",
   "execution_count": 76,
   "metadata": {},
   "outputs": [],
   "source": [
    "bangladesh[\"total_deaths_normalized\"] = bangladesh[\"total_deaths\"] / bangladesh[\"total_tests\"]\n",
    "bangladesh = bangladesh.fillna(0)\n",
    "\n",
    "australia[\"total_deaths_normalized\"] = australia[\"total_deaths\"] / australia[\"total_tests\"]\n",
    "australia = australia.fillna(0)\n",
    "\n",
    "bangladesh = (bangladesh - bangladesh.mean()) / bangladesh.std()\n",
    "bangladesh = bangladesh.fillna(0)\n",
    "\n",
    "australia = (australia - australia.mean()) / australia.std()\n",
    "australia = australia.fillna(0)"
   ]
  },
  {
   "cell_type": "code",
   "execution_count": 77,
   "metadata": {},
   "outputs": [
    {
     "name": "stdout",
     "output_type": "stream",
     "text": [
      "date\n",
      "0     0.127042\n",
      "1     0.127159\n",
      "3     0.127510\n",
      "4     0.127784\n",
      "5     0.128175\n",
      "        ...   \n",
      "64   -0.260508\n",
      "65   -0.246116\n",
      "66   -0.251102\n",
      "67   -2.921424\n",
      "68   -3.120582\n",
      "Name: total_deaths_normalized, Length: 68, dtype: float64\n"
     ]
    }
   ],
   "source": [
    "print(bangladesh[\"total_deaths_normalized\"])"
   ]
  },
  {
   "cell_type": "code",
   "execution_count": 82,
   "metadata": {},
   "outputs": [
    {
     "data": {
      "text/plain": [
       "<matplotlib.axes._subplots.AxesSubplot at 0x116cf6350>"
      ]
     },
     "execution_count": 82,
     "metadata": {},
     "output_type": "execute_result"
    },
    {
     "data": {
      "image/png": "[encoded data removed]",
      "text/plain": [
       "<Figure size 1152x288 with 1 Axes>"
      ]
     },
     "metadata": {
      "needs_background": "light"
     },
     "output_type": "display_data"
    }
   ],
   "source": [
    "bangladesh[\"total_deaths_normalized\"].plot(xlim = (0, 140), ylim = (-9, 5))\n",
    "australia[\"total_deaths_normalized\"].plot(xlim = (0, 140), ylim = (-9, 5))"
   ]
  },
  {
   "cell_type": "code",
   "execution_count": null,
   "metadata": {},
   "outputs": [],
   "source": []
  }
 ],
 "metadata": {
  "kernelspec": {
   "display_name": "Python 3",
   "language": "python",
   "name": "python3"
  },
  "language_info": {
   "codemirror_mode": {
    "name": "ipython",
    "version": 3
   },
   "file_extension": ".py",
   "mimetype": "text/x-python",
   "name": "python",
   "nbconvert_exporter": "python",
   "pygments_lexer": "ipython3",
   "version": "3.7.6"
  }
 },
 "nbformat": 4,
 "nbformat_minor": 4
}
