{
 "cells": [
  {
   "cell_type": "markdown",
   "metadata": {},
   "source": [
    "# Analysis of COVID-19 Data\n",
    "\n",
    "So we start off by querying the version of Pandas used. Knowing this is always helpful when it comes to debugging certain problems."
   ]
  },
  {
   "cell_type": "code",
   "execution_count": 9,
   "metadata": {},
   "outputs": [
    {
     "name": "stdout",
     "output_type": "stream",
     "text": [
      "1.0.3\n"
     ]
    }
   ],
   "source": [
    "import pandas as pd\n",
    "print(pd.__version__)\n",
    "import numpy as np\n",
    "\n",
    "%matplotlib inline\n",
    "import matplotlib\n",
    "matplotlib.rcParams['figure.figsize'] = (16, 4)"
   ]
  },
  {
   "cell_type": "markdown",
   "metadata": {},
   "source": [
    "Now we are fetching data from the url provided by \"Our World in Data\", which you can learn more about by visiting this [link](https://github.com/owid/covid-19-data/tree/master/public/data). \n",
    "\n",
    "I thank Edouard Mathieu and his fellow collaborators for this awesome work. They have accumulated the COVID-19 testing rates for every country along with all other relevant information. They are regularly updating the data as well."
   ]
  },
  {
   "cell_type": "code",
   "execution_count": 10,
   "metadata": {},
   "outputs": [
    {
     "name": "stdout",
     "output_type": "stream",
     "text": [
      "  iso_code location        date  total_cases  new_cases  total_deaths  \\\n",
      "0      ABW    Aruba  2020-03-13            2          2             0   \n",
      "1      ABW    Aruba  2020-03-20            4          2             0   \n",
      "2      ABW    Aruba  2020-03-24           12          8             0   \n",
      "3      ABW    Aruba  2020-03-25           17          5             0   \n",
      "4      ABW    Aruba  2020-03-26           19          2             0   \n",
      "\n",
      "   new_deaths  total_cases_per_million  new_cases_per_million  \\\n",
      "0           0                   18.733                 18.733   \n",
      "1           0                   37.465                 18.733   \n",
      "2           0                  112.395                 74.930   \n",
      "3           0                  159.227                 46.831   \n",
      "4           0                  177.959                 18.733   \n",
      "\n",
      "   total_deaths_per_million  ...  aged_65_older  aged_70_older  \\\n",
      "0                       0.0  ...         13.085          7.452   \n",
      "1                       0.0  ...         13.085          7.452   \n",
      "2                       0.0  ...         13.085          7.452   \n",
      "3                       0.0  ...         13.085          7.452   \n",
      "4                       0.0  ...         13.085          7.452   \n",
      "\n",
      "   gdp_per_capita  extreme_poverty  cvd_death_rate diabetes_prevalence  \\\n",
      "0       35973.781              NaN             NaN               11.62   \n",
      "1       35973.781              NaN             NaN               11.62   \n",
      "2       35973.781              NaN             NaN               11.62   \n",
      "3       35973.781              NaN             NaN               11.62   \n",
      "4       35973.781              NaN             NaN               11.62   \n",
      "\n",
      "   female_smokers  male_smokers  handwashing_facilities  \\\n",
      "0             NaN           NaN                     NaN   \n",
      "1             NaN           NaN                     NaN   \n",
      "2             NaN           NaN                     NaN   \n",
      "3             NaN           NaN                     NaN   \n",
      "4             NaN           NaN                     NaN   \n",
      "\n",
      "   hospital_beds_per_100k  \n",
      "0                     NaN  \n",
      "1                     NaN  \n",
      "2                     NaN  \n",
      "3                     NaN  \n",
      "4                     NaN  \n",
      "\n",
      "[5 rows x 29 columns]\n"
     ]
    }
   ],
   "source": [
    "data = pd.read_csv(\"https://covid.ourworldindata.org/data/owid-covid-data.csv\")\n",
    "print(data.head())"
   ]
  },
  {
   "cell_type": "code",
   "execution_count": 11,
   "metadata": {},
   "outputs": [
    {
     "name": "stdout",
     "output_type": "stream",
     "text": [
      "         date  total_deaths  total_tests  total_cases\n",
      "0  2020-03-04             0        108.0            0\n",
      "1  2020-03-05             0        111.0            0\n",
      "2  2020-03-07             0        120.0            0\n",
      "3  2020-03-08             0        127.0            0\n",
      "4  2020-03-09             0        137.0            3\n",
      "         date  total_deaths  total_tests  total_cases\n",
      "0  2019-12-31             0          0.0            0\n",
      "1  2020-01-01             0          0.0            0\n",
      "2  2020-01-02             0          0.0            0\n",
      "3  2020-01-03             0          0.0            0\n",
      "4  2020-01-04             0          0.0            0\n"
     ]
    }
   ],
   "source": [
    "bangladesh = data[data[\"location\"] == \"Bangladesh\"].reset_index().fillna(0)\n",
    "australia = data[data[\"location\"] == \"Australia\"].reset_index().fillna(0)\n",
    "bangladesh = bangladesh[[\"date\", \"total_deaths\", \"total_tests\", \"total_cases\"]]\n",
    "australia = australia[[\"date\", \"total_deaths\", \"total_tests\", \"total_cases\"]]\n",
    "print(bangladesh.head())\n",
    "print(australia.head())"
   ]
  },
  {
   "cell_type": "code",
   "execution_count": 12,
   "metadata": {},
   "outputs": [
    {
     "name": "stdout",
     "output_type": "stream",
     "text": [
      "      total_deaths  total_tests  total_cases\n",
      "date                                        \n",
      "0                0        108.0            0\n",
      "1                0        111.0            0\n",
      "3                0        120.0            0\n",
      "4                0        127.0            0\n",
      "5                0        137.0            3\n",
      "      total_deaths  total_tests  total_cases\n",
      "date                                        \n",
      "0                0          0.0            0\n",
      "1                0          0.0            0\n",
      "2                0          0.0            0\n",
      "3                0          0.0            0\n",
      "4                0          0.0            0\n"
     ]
    }
   ],
   "source": [
    "bangladesh[\"date\"] = pd.to_datetime(bangladesh[\"date\"])\n",
    "bangladesh[\"date\"] = (bangladesh[\"date\"] - bangladesh[\"date\"][0]).dt.days\n",
    "\n",
    "australia[\"date\"] = pd.to_datetime(australia[\"date\"])\n",
    "australia[\"date\"] = (australia[\"date\"] - australia[\"date\"][0]).dt.days\n",
    "\n",
    "bangladesh = bangladesh.set_index(\"date\")\n",
    "australia = australia.set_index(\"date\")\n",
    "\n",
    "print(bangladesh.head())\n",
    "print(australia.head())"
   ]
  },
  {
   "cell_type": "code",
   "execution_count": 17,
   "metadata": {},
   "outputs": [],
   "source": [
    "bangladesh[\"total_deaths_normalized\"] = bangladesh[\"total_deaths\"] / bangladesh[\"total_tests\"]\n",
    "bangladesh[\"total_cases_normalized\"] = bangladesh[\"total_cases\"] / bangladesh[\"total_tests\"]\n",
    "bangladesh = bangladesh.fillna(0)\n",
    "\n",
    "australia[\"total_deaths_normalized\"] = australia[\"total_deaths\"] / australia[\"total_tests\"]\n",
    "australia[\"total_cases_normalized\"] = australia[\"total_cases\"] / australia[\"total_tests\"]\n",
    "australia = australia.fillna(0)\n",
    "\n",
    "bangladesh = (bangladesh - bangladesh.me()) / bangladesh.std()\n",
    "bangladesh = bangladesh.fillna(0)\n",
    "\n",
    "australia = (australia - australia.mean()) / australia.std()\n",
    "australia = australia.fillna(0)"
   ]
  },
  {
   "cell_type": "code",
   "execution_count": 18,
   "metadata": {
    "scrolled": true
   },
   "outputs": [
    {
     "name": "stdout",
     "output_type": "stream",
     "text": [
      "      total_deaths  total_tests  total_cases  total_deaths_normalized  \\\n",
      "date                                                                    \n",
      "0        -0.822262    -0.668227    -0.654983                 0.211498   \n",
      "1        -0.822262    -0.668135    -0.654983                 0.211615   \n",
      "3        -0.822262    -0.667861    -0.654983                 0.211964   \n",
      "4        -0.822262    -0.667647    -0.654983                 0.212235   \n",
      "5        -0.822262    -0.667342    -0.654304                 0.212624   \n",
      "...            ...          ...          ...                      ...   \n",
      "65        1.767891     2.731662     2.156268                -0.190643   \n",
      "66        1.859002     2.898533     2.316685                -0.194659   \n",
      "67        1.963129    -0.671525     2.460585                -2.652170   \n",
      "68        2.145351    -0.671525     2.661275                -2.839241   \n",
      "69        2.288525    -0.671525     2.895226                -2.986224   \n",
      "\n",
      "      total_cases_normalized  \n",
      "date                          \n",
      "0                   0.058366  \n",
      "1                   0.058441  \n",
      "3                   0.058669  \n",
      "4                   0.058846  \n",
      "5                   0.058525  \n",
      "...                      ...  \n",
      "65                 -0.049228  \n",
      "66                 -0.043646  \n",
      "67                 -2.560361  \n",
      "68                 -2.728872  \n",
      "69                 -2.925311  \n",
      "\n",
      "[69 rows x 5 columns]\n"
     ]
    }
   ],
   "source": [
    "print(bangladesh)"
   ]
  },
  {
   "cell_type": "code",
   "execution_count": 19,
   "metadata": {},
   "outputs": [
    {
     "data": {
      "text/plain": [
       "<matplotlib.axes._subplots.AxesSubplot at 0x1111a4490>"
      ]
     },
     "execution_count": 19,
     "metadata": {},
     "output_type": "execute_result"
    },
    {
     "data": {
      "image/png": "[encoded data removed]",
      "text/plain": [
       "<Figure size 1152x288 with 1 Axes>"
      ]
     },
     "metadata": {
      "needs_background": "light"
     },
     "output_type": "display_data"
    }
   ],
   "source": [
    "bangladesh[\"total_deaths_normalized\"].plot(xlim = (0, 140), ylim = (-9, 5))\n",
    "australia[\"total_deaths_normalized\"].plot(xlim = (0, 140), ylim = (-9, 5))"
   ]
  },
  {
   "cell_type": "code",
   "execution_count": 20,
   "metadata": {},
   "outputs": [
    {
     "data": {
      "text/plain": [
       "<matplotlib.axes._subplots.AxesSubplot at 0x110517510>"
      ]
     },
     "execution_count": 20,
     "metadata": {},
     "output_type": "execute_result"
    },
    {
     "data": {
      "image/png": "[encoded data removed]",
      "text/plain": [
       "<Figure size 1152x288 with 1 Axes>"
      ]
     },
     "metadata": {
      "needs_background": "light"
     },
     "output_type": "display_data"
    }
   ],
   "source": [
    "bangladesh[\"total_cases_normalized\"].plot(xlim = (0, 140), ylim = (-9, 5))\n",
    "australia[\"total_cases_normalized\"].plot(xlim = (0, 140), ylim = (-9, 5))"
   ]
  },
  {
   "cell_type": "code",
   "execution_count": null,
   "metadata": {},
   "outputs": [],
   "source": []
  }
 ],
 "metadata": {
  "kernelspec": {
   "display_name": "Python 3",
   "language": "python",
   "name": "python3"
  },
  "language_info": {
   "codemirror_mode": {
    "name": "ipython",
    "version": 3
   },
   "file_extension": ".py",
   "mimetype": "text/x-python",
   "name": "python",
   "nbconvert_exporter": "python",
   "pygments_lexer": "ipython3",
   "version": "3.7.6"
  }
 },
 "nbformat": 4,
 "nbformat_minor": 4
}
